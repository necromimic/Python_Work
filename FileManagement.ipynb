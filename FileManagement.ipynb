{
 "cells": [
  {
   "cell_type": "code",
   "execution_count": 143,
   "metadata": {},
   "outputs": [
    {
     "data": {
      "text/plain": [
       "\"1. Beautiful is better than ugly.\\n2. Explicit is better than implicit.\\n3. Simple is better than complex.\\n4. Complex is better than complicated.\\n5. Flat is better than nested.\\n6. Sparse is better than dense.\\n7. Readability counts.\\n8. Special cases aren't special enough to break the rules.\\n9. Although practicality beats purity.\\n10. Errors should never pass silently.\\n11. Unless explicitly silenced.\\n12. In the face of ambiguity, refuse the temptation to guess.\\n13.There should be one-- and preferably only one --obvious way to do it.\\n14. Although that way may not be obvious at first unless you're Dutch.\\n15. Now is better than never.\\n16. Although never is often better than *right* now.\\n17. If the implementation is hard to explain, it's a bad idea.\\n18. If the implementation is easy to explain, it may be a good idea.\\n19. Namespaces are one honking great idea -- let's do more of those!\""
      ]
     },
     "execution_count": 143,
     "metadata": {},
     "output_type": "execute_result"
    }
   ],
   "source": [
    "fp = open('./data/zen_of_python(1).txt', 'r')   \n",
    "fp.read()"
   ]
  },
  {
   "cell_type": "code",
   "execution_count": 144,
   "metadata": {},
   "outputs": [],
   "source": [
    "with open('./data/zen_of_python(1).txt', 'r') as input:\n",
    "    with open('./data/new_zen_of_python.txt', 'w') as output:\n",
    "        for line in input:\n",
    "            output.write(line)\n",
    "\n"
   ]
  },
  {
   "cell_type": "code",
   "execution_count": 145,
   "metadata": {},
   "outputs": [],
   "source": [
    "with open('./data/new_zen_of_python.txt', 'w') as revtext:\n",
    "        revtext.write(line[::])"
   ]
  },
  {
   "cell_type": "code",
   "execution_count": 146,
   "metadata": {},
   "outputs": [
    {
     "name": "stdout",
     "output_type": "stream",
     "text": [
      "Writing complete\n"
     ]
    }
   ],
   "source": [
    "\n",
    "import csv\n",
    "\n",
    "myData = [[\"PEP\", \"Title\", \"Author\", \"Status\", \"Type\", \"Created\", \"Post-History\"],\n",
    "          ['20', 'The Zen of Python', 'tim.peters at gmail.com (Tim Peters)', 'Active', 'Informational', '19-Aug-2004', '22-Aug-2004']]\n",
    " \n",
    "with open('./data/zen_of_python.csv', 'w') as myFile:\n",
    "    writer = csv.writer(myFile)\n",
    "    writer.writerows(myData)\n",
    "     \n",
    "print(\"Writing complete\")"
   ]
  },
  {
   "cell_type": "code",
   "execution_count": 147,
   "metadata": {},
   "outputs": [
    {
     "name": "stdout",
     "output_type": "stream",
     "text": [
      "['PEP', 'Title', 'Author', 'Status', 'Type', 'Created', 'Post-History']\n",
      "[]\n",
      "['20', 'The Zen of Python', 'tim.peters at gmail.com (Tim Peters)', 'Active', 'Informational', '19-Aug-2004', '22-Aug-2004']\n",
      "[]\n"
     ]
    }
   ],
   "source": [
    "with open('./data/zen_of_python.csv') as csvDataFile:\n",
    "    csvReader = csv.reader(csvDataFile)\n",
    "    for row in csvReader:\n",
    "        print(row)"
   ]
  }
 ],
 "metadata": {
  "interpreter": {
   "hash": "00cdee9074ab15471d5c71f7462d93841a98365b8d679a17e423761ef7bf7994"
  },
  "kernelspec": {
   "display_name": "Python 3.10.0 64-bit",
   "language": "python",
   "name": "python3"
  },
  "language_info": {
   "codemirror_mode": {
    "name": "ipython",
    "version": 3
   },
   "file_extension": ".py",
   "mimetype": "text/x-python",
   "name": "python",
   "nbconvert_exporter": "python",
   "pygments_lexer": "ipython3",
   "version": "3.10.0"
  },
  "orig_nbformat": 4
 },
 "nbformat": 4,
 "nbformat_minor": 2
}
