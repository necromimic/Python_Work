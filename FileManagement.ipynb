{
 "cells": [
  {
   "cell_type": "code",
   "execution_count": 4,
   "metadata": {},
   "outputs": [
    {
     "data": {
      "text/plain": [
       "\"1. Beautiful is better than ugly.\\n2. Explicit is better than implicit.\\n3. Simple is better than complex.\\n4. Complex is better than complicated.\\n5. Flat is better than nested.\\n6. Sparse is better than dense.\\n7. Readability counts.\\n8. Special cases aren't special enough to break the rules.\\n9. Although practicality beats purity.\\n10. Errors should never pass silently.\\n11. Unless explicitly silenced.\\n12. In the face of ambiguity, refuse the temptation to guess.\\n13.There should be one-- and preferably only one --obvious way to do it.\\n14. Although that way may not be obvious at first unless you're Dutch.\\n15. Now is better than never.\\n16. Although never is often better than *right* now.\\n17. If the implementation is hard to explain, it's a bad idea.\\n18. If the implementation is easy to explain, it may be a good idea.\\n19. Namespaces are one honking great idea -- let's do more of those!\""
      ]
     },
     "execution_count": 4,
     "metadata": {},
     "output_type": "execute_result"
    }
   ],
   "source": [
    "fp = open('./data/zen_of_python(1).txt', 'r')   \n",
    "fp.read()"
   ]
  },
  {
   "cell_type": "code",
   "execution_count": 5,
   "metadata": {},
   "outputs": [],
   "source": [
    "with open('./data/zen_of_python(1).txt', 'r') as input:\n",
    "    with open('./data/new_zen_of_python.txt', 'w') as output:\n",
    "        for line in input:\n",
    "            output.write(line)\n",
    "\n"
   ]
  },
  {
   "cell_type": "code",
   "execution_count": 6,
   "metadata": {},
   "outputs": [],
   "source": [
    "with open('./data/new_zen_of_python.txt', 'w') as revtext:\n",
    "        revtext.write(line[::-1])"
   ]
  },
  {
   "cell_type": "code",
   "execution_count": null,
   "metadata": {},
   "outputs": [
    {
     "name": "stdout",
     "output_type": "stream",
     "text": [
      "Writing complete\n"
     ]
    }
   ],
   "source": [
    "\n",
    "import csv\n",
    "\n",
    "myData = [[\"PEP\", \"Title\", \"Author\", \"Status\", \"Type\", \"Created\", \"Post-History\"],\n",
    "          ['20', 'The Zen of Python', 'tim.peters at gmail.com (Tim Peters)', 'Active', 'Informational', '19-Aug-2004', '22-Aug-2004']]\n",
    " \n",
    "with open('./data/zen_of_python.csv', 'w') as myFile:\n",
    "    writer = csv.writer(myFile)\n",
    "    writer.writerows(myData)\n",
    "     \n",
    "print(\"Writing complete\")"
   ]
  },
  {
   "cell_type": "code",
   "execution_count": 7,
   "metadata": {},
   "outputs": [
    {
     "ename": "FileNotFoundError",
     "evalue": "[Errno 2] No such file or directory: './data/new_csv.csvw+'",
     "output_type": "error",
     "traceback": [
      "\u001b[1;31m---------------------------------------------------------------------------\u001b[0m",
      "\u001b[1;31mFileNotFoundError\u001b[0m                         Traceback (most recent call last)",
      "Input \u001b[1;32mIn [7]\u001b[0m, in \u001b[0;36m<module>\u001b[1;34m\u001b[0m\n\u001b[0;32m     14\u001b[0m         lt\u001b[38;5;241m.\u001b[39mappend(line_lt)\n\u001b[0;32m     15\u001b[0m         lines \u001b[38;5;241m=\u001b[39m f\u001b[38;5;241m.\u001b[39mreadline()\n\u001b[1;32m---> 17\u001b[0m \u001b[38;5;28;01mwith\u001b[39;00m \u001b[38;5;28;43mopen\u001b[39;49m\u001b[43m(\u001b[49m\u001b[38;5;124;43m\"\u001b[39;49m\u001b[38;5;124;43m./data/new_csv.csv\u001b[39;49m\u001b[38;5;124;43m\"\u001b[39;49m\u001b[43m \u001b[49m\u001b[38;5;124;43m\"\u001b[39;49m\u001b[38;5;124;43mw+\u001b[39;49m\u001b[38;5;124;43m\"\u001b[39;49m\u001b[43m)\u001b[49m \u001b[38;5;28;01mas\u001b[39;00m f:\n\u001b[0;32m     18\u001b[0m     writer \u001b[38;5;241m=\u001b[39m csv\u001b[38;5;241m.\u001b[39mwriter(f)\n\u001b[0;32m     19\u001b[0m     writer\u001b[38;5;241m.\u001b[39mwriterows(lt)\n",
      "\u001b[1;31mFileNotFoundError\u001b[0m: [Errno 2] No such file or directory: './data/new_csv.csvw+'"
     ]
    }
   ],
   "source": [
    "import csv\n",
    "lt = []\n",
    "'''\n",
    "[\n",
    "    [],\n",
    "    []\n",
    "]\n",
    "'''\n",
    "\n",
    "with open(\"./data/title_zen_of_python.txt\") as f:\n",
    "    lines = f.readline()\n",
    "    while lines:\n",
    "        line_lt = lines.split(\"/\")\n",
    "        lt.append(line_lt)\n",
    "        lines = f.readline()\n",
    "\n",
    "with open(\"./data/new_csv.csv\" 'w+') as f:\n",
    "    writer = csv.writer(f)\n",
    "    writer.writerows(lt)\n"
   ]
  }
 ],
 "metadata": {
  "interpreter": {
   "hash": "00cdee9074ab15471d5c71f7462d93841a98365b8d679a17e423761ef7bf7994"
  },
  "kernelspec": {
   "display_name": "Python 3.10.0 64-bit",
   "language": "python",
   "name": "python3"
  },
  "language_info": {
   "codemirror_mode": {
    "name": "ipython",
    "version": 3
   },
   "file_extension": ".py",
   "mimetype": "text/x-python",
   "name": "python",
   "nbconvert_exporter": "python",
   "pygments_lexer": "ipython3",
   "version": "3.10.0"
  },
  "orig_nbformat": 4
 },
 "nbformat": 4,
 "nbformat_minor": 2
}
