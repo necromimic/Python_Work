{
 "cells": [
  {
   "cell_type": "code",
   "execution_count": 13,
   "metadata": {},
   "outputs": [
    {
     "ename": "IndexError",
     "evalue": "pop from empty list",
     "output_type": "error",
     "traceback": [
      "\u001b[1;31m---------------------------------------------------------------------------\u001b[0m",
      "\u001b[1;31mIndexError\u001b[0m                                Traceback (most recent call last)",
      "Input \u001b[1;32mIn [13]\u001b[0m, in \u001b[0;36m<module>\u001b[1;34m\u001b[0m\n\u001b[0;32m     45\u001b[0m     queue[data[s]]\u001b[38;5;241m.\u001b[39mappend(s)\n\u001b[0;32m     47\u001b[0m \u001b[38;5;28;01melif\u001b[39;00m com \u001b[38;5;241m==\u001b[39m \u001b[38;5;124m\"\u001b[39m\u001b[38;5;124mD\u001b[39m\u001b[38;5;124m\"\u001b[39m:\n\u001b[1;32m---> 49\u001b[0m     s \u001b[38;5;241m=\u001b[39m \u001b[43mreal_queue\u001b[49m\u001b[38;5;241;43m.\u001b[39;49m\u001b[43mpop\u001b[49m\u001b[43m(\u001b[49m\u001b[38;5;241;43m0\u001b[39;49m\u001b[43m)\u001b[49m\n\u001b[0;32m     51\u001b[0m     a\u001b[38;5;241m.\u001b[39mappend(s)\n\u001b[0;32m     53\u001b[0m     queue[data[s]]\u001b[38;5;241m.\u001b[39mpop(\u001b[38;5;241m0\u001b[39m)\n",
      "\u001b[1;31mIndexError\u001b[0m: pop from empty list"
     ]
    }
   ],
   "source": [
    "nc, ns = map(int, input().split())\n",
    "\n",
    "data = {}\n",
    "\n",
    "real_queue = []\n",
    "\n",
    "queue = {str(i + 1): [] for i in range(nc)}\n",
    "\n",
    "for i in range(ns):\n",
    "\n",
    "    c, s = input().split()\n",
    "\n",
    "    data[s] = c\n",
    "\n",
    "a = []\n",
    "\n",
    "while True:\n",
    "\n",
    "    com = input()\n",
    "\n",
    "    if com == \"X\":\n",
    "\n",
    "        break\n",
    "\n",
    "    if com[0] == \"E\":\n",
    "\n",
    "        s = com.split()[1]\n",
    "\n",
    "        if queue[data[s]]:\n",
    "\n",
    "            index = real_queue.index(queue[data[s]][-1]) + 1\n",
    "\n",
    "            if index != len(real_queue):\n",
    "\n",
    "                real_queue.insert(index, s)\n",
    "\n",
    "            else:\n",
    "\n",
    "                real_queue.append(s)\n",
    "\n",
    "        else:\n",
    "\n",
    "            real_queue.append(s)\n",
    "\n",
    "        queue[data[s]].append(s)\n",
    "\n",
    "    elif com == \"D\":\n",
    "\n",
    "        s = real_queue.pop(0)\n",
    "\n",
    "        a.append(s)\n",
    "\n",
    "        queue[data[s]].pop(0)\n",
    "\n",
    "for c in a:\n",
    "\n",
    "    print(c)\n",
    "\n",
    "print(0)"
   ]
  },
  {
   "cell_type": "code",
   "execution_count": 19,
   "metadata": {},
   "outputs": [
    {
     "name": "stdout",
     "output_type": "stream",
     "text": [
      "[]\n"
     ]
    }
   ],
   "source": [
    "print(a)"
   ]
  }
 ],
 "metadata": {
  "interpreter": {
   "hash": "00cdee9074ab15471d5c71f7462d93841a98365b8d679a17e423761ef7bf7994"
  },
  "kernelspec": {
   "display_name": "Python 3.10.0 64-bit",
   "language": "python",
   "name": "python3"
  },
  "language_info": {
   "codemirror_mode": {
    "name": "ipython",
    "version": 3
   },
   "file_extension": ".py",
   "mimetype": "text/x-python",
   "name": "python",
   "nbconvert_exporter": "python",
   "pygments_lexer": "ipython3",
   "version": "3.10.0"
  },
  "orig_nbformat": 4
 },
 "nbformat": 4,
 "nbformat_minor": 2
}
