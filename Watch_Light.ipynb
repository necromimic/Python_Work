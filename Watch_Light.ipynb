{
 "cells": [
  {
   "cell_type": "code",
   "execution_count": null,
   "id": "11f381ec",
   "metadata": {},
   "outputs": [],
   "source": [
    "import math\n",
    "n = input(\"ความยาวสนาม\")\n",
    "m = input(\"ตวามกว้างสนาม\")\n",
    "l = input(\"ค่าน้ำมัน\")\n",
    "k = input(\"จำนวนครั้งที่บิน\")\n",
    "c = input(\"จำนวนคน\")\n",
    "\n",
    "sum = int(k)*int(c)*int(l)\n",
    "\n",
    "n = int(n)*int(m)\n",
    "sum_light = 0\n",
    "\n",
    "while (n != 0) :\n",
    "    light = input(\"ค่าไฟ:\")\n",
    "    light = int (light)\n",
    "    sum_light += light\n",
    "    n = n-1\n",
    "\n",
    "print(\"ค่าใช้จ่ายรวม :\", math.ceil(sum_light + sum))"
   ]
  }
 ],
 "metadata": {
  "kernelspec": {
   "display_name": "Python 3 (ipykernel)",
   "language": "python",
   "name": "python3"
  },
  "language_info": {
   "codemirror_mode": {
    "name": "ipython",
    "version": 3
   },
   "file_extension": ".py",
   "mimetype": "text/x-python",
   "name": "python",
   "nbconvert_exporter": "python",
   "pygments_lexer": "ipython3",
   "version": "3.9.7"
  }
 },
 "nbformat": 4,
 "nbformat_minor": 5
}
